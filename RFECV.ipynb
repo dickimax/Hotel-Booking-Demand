{
  "nbformat": 4,
  "nbformat_minor": 0,
  "metadata": {
    "colab": {
      "name": "RFECV.ipynb",
      "provenance": []
    },
    "kernelspec": {
      "display_name": "Python 3",
      "name": "python3"
    },
    "language_info": {
      "name": "python"
    }
  },
  "cells": [
    {
      "cell_type": "markdown",
      "metadata": {
        "id": "dqBrhWtlABWj"
      },
      "source": [
        "Hotel Booking Demand"
      ]
    },
    {
      "cell_type": "markdown",
      "metadata": {
        "id": "1yfHAANaALoo"
      },
      "source": [
        "Importing Data Libraries."
      ]
    },
    {
      "cell_type": "code",
      "metadata": {
        "colab": {
          "base_uri": "https://localhost:8080/"
        },
        "id": "fYrdB1oMStnT",
        "outputId": "7392d448-791d-4bac-d382-21278ceae9fa"
      },
      "source": [
        "from google.colab import drive\n",
        "drive.mount('/content/drive')"
      ],
      "execution_count": 1,
      "outputs": [
        {
          "output_type": "stream",
          "name": "stdout",
          "text": [
            "Mounted at /content/drive\n"
          ]
        }
      ]
    },
    {
      "cell_type": "code",
      "metadata": {
        "colab": {
          "base_uri": "https://localhost:8080/"
        },
        "id": "lVmjuhJPAGb5",
        "outputId": "7f5c74ad-5aaf-497b-f963-a7b1a76ab67a"
      },
      "source": [
        "!pip install pycountry\n",
        "\n",
        "import pandas as pd\n",
        "import numpy as np\n",
        "import seaborn as sns\n",
        "import matplotlib.pyplot as plt\n",
        "import matplotlib.ticker as mtick\n",
        "import pycountry as pc"
      ],
      "execution_count": 2,
      "outputs": [
        {
          "output_type": "stream",
          "name": "stdout",
          "text": [
            "Collecting pycountry\n",
            "  Downloading pycountry-20.7.3.tar.gz (10.1 MB)\n",
            "\u001b[K     |████████████████████████████████| 10.1 MB 22.4 MB/s \n",
            "\u001b[?25hBuilding wheels for collected packages: pycountry\n",
            "  Building wheel for pycountry (setup.py) ... \u001b[?25l\u001b[?25hdone\n",
            "  Created wheel for pycountry: filename=pycountry-20.7.3-py2.py3-none-any.whl size=10746883 sha256=a9463c6b2a159c1e6453baf23bcf57fa8f4911c3657961530b477ac2eadca24b\n",
            "  Stored in directory: /root/.cache/pip/wheels/57/e8/3f/120ccc1ff7541c108bc5d656e2a14c39da0d824653b62284c6\n",
            "Successfully built pycountry\n",
            "Installing collected packages: pycountry\n",
            "Successfully installed pycountry-20.7.3\n"
          ]
        }
      ]
    },
    {
      "cell_type": "code",
      "metadata": {
        "id": "6mmWut6oZKHI"
      },
      "source": [
        "train_data = pd.read_csv('/content/drive/MyDrive/train.csv',index_col=0)"
      ],
      "execution_count": 3,
      "outputs": []
    },
    {
      "cell_type": "code",
      "metadata": {
        "colab": {
          "base_uri": "https://localhost:8080/",
          "height": 388
        },
        "id": "gE9MKT6uaSyr",
        "outputId": "46f008f7-6f36-404e-9aaf-737160b66583"
      },
      "source": [
        "train_data.head()"
      ],
      "execution_count": 5,
      "outputs": [
        {
          "output_type": "execute_result",
          "data": {
            "text/html": [
              "\n",
              "  <div id=\"df-fb4d7b5a-d977-4763-be50-bafe8b7acf17\">\n",
              "    <div class=\"colab-df-container\">\n",
              "      <div>\n",
              "<style scoped>\n",
              "    .dataframe tbody tr th:only-of-type {\n",
              "        vertical-align: middle;\n",
              "    }\n",
              "\n",
              "    .dataframe tbody tr th {\n",
              "        vertical-align: top;\n",
              "    }\n",
              "\n",
              "    .dataframe thead th {\n",
              "        text-align: right;\n",
              "    }\n",
              "</style>\n",
              "<table border=\"1\" class=\"dataframe\">\n",
              "  <thead>\n",
              "    <tr style=\"text-align: right;\">\n",
              "      <th></th>\n",
              "      <th>hotel</th>\n",
              "      <th>is_canceled</th>\n",
              "      <th>lead_time</th>\n",
              "      <th>arrival_date_year</th>\n",
              "      <th>arrival_date_month</th>\n",
              "      <th>arrival_date_week_number</th>\n",
              "      <th>arrival_date_day_of_month</th>\n",
              "      <th>stays_in_weekend_nights</th>\n",
              "      <th>stays_in_week_nights</th>\n",
              "      <th>adults</th>\n",
              "      <th>children</th>\n",
              "      <th>babies</th>\n",
              "      <th>meal</th>\n",
              "      <th>country</th>\n",
              "      <th>market_segment</th>\n",
              "      <th>distribution_channel</th>\n",
              "      <th>is_repeated_guest</th>\n",
              "      <th>previous_cancellations</th>\n",
              "      <th>previous_bookings_not_canceled</th>\n",
              "      <th>reserved_room_type</th>\n",
              "      <th>assigned_room_type</th>\n",
              "      <th>booking_changes</th>\n",
              "      <th>deposit_type</th>\n",
              "      <th>agent</th>\n",
              "      <th>company</th>\n",
              "      <th>days_in_waiting_list</th>\n",
              "      <th>customer_type</th>\n",
              "      <th>adr</th>\n",
              "      <th>required_car_parking_spaces</th>\n",
              "      <th>total_of_special_requests</th>\n",
              "      <th>reservation_status</th>\n",
              "      <th>reservation_status_date</th>\n",
              "    </tr>\n",
              "    <tr>\n",
              "      <th>Transaction_Id</th>\n",
              "      <th></th>\n",
              "      <th></th>\n",
              "      <th></th>\n",
              "      <th></th>\n",
              "      <th></th>\n",
              "      <th></th>\n",
              "      <th></th>\n",
              "      <th></th>\n",
              "      <th></th>\n",
              "      <th></th>\n",
              "      <th></th>\n",
              "      <th></th>\n",
              "      <th></th>\n",
              "      <th></th>\n",
              "      <th></th>\n",
              "      <th></th>\n",
              "      <th></th>\n",
              "      <th></th>\n",
              "      <th></th>\n",
              "      <th></th>\n",
              "      <th></th>\n",
              "      <th></th>\n",
              "      <th></th>\n",
              "      <th></th>\n",
              "      <th></th>\n",
              "      <th></th>\n",
              "      <th></th>\n",
              "      <th></th>\n",
              "      <th></th>\n",
              "      <th></th>\n",
              "      <th></th>\n",
              "      <th></th>\n",
              "    </tr>\n",
              "  </thead>\n",
              "  <tbody>\n",
              "    <tr>\n",
              "      <th>1001</th>\n",
              "      <td>Resort Hotel</td>\n",
              "      <td>0</td>\n",
              "      <td>342</td>\n",
              "      <td>2015</td>\n",
              "      <td>July</td>\n",
              "      <td>27</td>\n",
              "      <td>1</td>\n",
              "      <td>0</td>\n",
              "      <td>0</td>\n",
              "      <td>2</td>\n",
              "      <td>0.0</td>\n",
              "      <td>0</td>\n",
              "      <td>BB</td>\n",
              "      <td>PRT</td>\n",
              "      <td>Direct</td>\n",
              "      <td>Direct</td>\n",
              "      <td>0</td>\n",
              "      <td>0</td>\n",
              "      <td>0</td>\n",
              "      <td>C</td>\n",
              "      <td>C</td>\n",
              "      <td>3</td>\n",
              "      <td>No Deposit</td>\n",
              "      <td>NaN</td>\n",
              "      <td>NaN</td>\n",
              "      <td>0</td>\n",
              "      <td>Transient</td>\n",
              "      <td>0.0</td>\n",
              "      <td>0</td>\n",
              "      <td>0</td>\n",
              "      <td>Check-Out</td>\n",
              "      <td>2015-07-01</td>\n",
              "    </tr>\n",
              "    <tr>\n",
              "      <th>1002</th>\n",
              "      <td>Resort Hotel</td>\n",
              "      <td>0</td>\n",
              "      <td>737</td>\n",
              "      <td>2015</td>\n",
              "      <td>July</td>\n",
              "      <td>27</td>\n",
              "      <td>1</td>\n",
              "      <td>0</td>\n",
              "      <td>0</td>\n",
              "      <td>2</td>\n",
              "      <td>0.0</td>\n",
              "      <td>0</td>\n",
              "      <td>BB</td>\n",
              "      <td>PRT</td>\n",
              "      <td>Direct</td>\n",
              "      <td>Direct</td>\n",
              "      <td>0</td>\n",
              "      <td>0</td>\n",
              "      <td>0</td>\n",
              "      <td>C</td>\n",
              "      <td>C</td>\n",
              "      <td>4</td>\n",
              "      <td>No Deposit</td>\n",
              "      <td>NaN</td>\n",
              "      <td>NaN</td>\n",
              "      <td>0</td>\n",
              "      <td>Transient</td>\n",
              "      <td>0.0</td>\n",
              "      <td>0</td>\n",
              "      <td>0</td>\n",
              "      <td>Check-Out</td>\n",
              "      <td>2015-07-01</td>\n",
              "    </tr>\n",
              "    <tr>\n",
              "      <th>1003</th>\n",
              "      <td>Resort Hotel</td>\n",
              "      <td>0</td>\n",
              "      <td>7</td>\n",
              "      <td>2015</td>\n",
              "      <td>July</td>\n",
              "      <td>27</td>\n",
              "      <td>1</td>\n",
              "      <td>0</td>\n",
              "      <td>1</td>\n",
              "      <td>1</td>\n",
              "      <td>0.0</td>\n",
              "      <td>0</td>\n",
              "      <td>BB</td>\n",
              "      <td>GBR</td>\n",
              "      <td>Direct</td>\n",
              "      <td>Direct</td>\n",
              "      <td>0</td>\n",
              "      <td>0</td>\n",
              "      <td>0</td>\n",
              "      <td>A</td>\n",
              "      <td>C</td>\n",
              "      <td>0</td>\n",
              "      <td>No Deposit</td>\n",
              "      <td>NaN</td>\n",
              "      <td>NaN</td>\n",
              "      <td>0</td>\n",
              "      <td>Transient</td>\n",
              "      <td>75.0</td>\n",
              "      <td>0</td>\n",
              "      <td>0</td>\n",
              "      <td>Check-Out</td>\n",
              "      <td>2015-07-02</td>\n",
              "    </tr>\n",
              "    <tr>\n",
              "      <th>1004</th>\n",
              "      <td>Resort Hotel</td>\n",
              "      <td>0</td>\n",
              "      <td>13</td>\n",
              "      <td>2015</td>\n",
              "      <td>July</td>\n",
              "      <td>27</td>\n",
              "      <td>1</td>\n",
              "      <td>0</td>\n",
              "      <td>1</td>\n",
              "      <td>1</td>\n",
              "      <td>0.0</td>\n",
              "      <td>0</td>\n",
              "      <td>BB</td>\n",
              "      <td>GBR</td>\n",
              "      <td>Corporate</td>\n",
              "      <td>Corporate</td>\n",
              "      <td>0</td>\n",
              "      <td>0</td>\n",
              "      <td>0</td>\n",
              "      <td>A</td>\n",
              "      <td>A</td>\n",
              "      <td>0</td>\n",
              "      <td>No Deposit</td>\n",
              "      <td>304.0</td>\n",
              "      <td>NaN</td>\n",
              "      <td>0</td>\n",
              "      <td>Transient</td>\n",
              "      <td>75.0</td>\n",
              "      <td>0</td>\n",
              "      <td>0</td>\n",
              "      <td>Check-Out</td>\n",
              "      <td>2015-07-02</td>\n",
              "    </tr>\n",
              "    <tr>\n",
              "      <th>1005</th>\n",
              "      <td>Resort Hotel</td>\n",
              "      <td>0</td>\n",
              "      <td>14</td>\n",
              "      <td>2015</td>\n",
              "      <td>July</td>\n",
              "      <td>27</td>\n",
              "      <td>1</td>\n",
              "      <td>0</td>\n",
              "      <td>2</td>\n",
              "      <td>2</td>\n",
              "      <td>0.0</td>\n",
              "      <td>0</td>\n",
              "      <td>BB</td>\n",
              "      <td>GBR</td>\n",
              "      <td>Online TA</td>\n",
              "      <td>TA/TO</td>\n",
              "      <td>0</td>\n",
              "      <td>0</td>\n",
              "      <td>0</td>\n",
              "      <td>A</td>\n",
              "      <td>A</td>\n",
              "      <td>0</td>\n",
              "      <td>No Deposit</td>\n",
              "      <td>240.0</td>\n",
              "      <td>NaN</td>\n",
              "      <td>0</td>\n",
              "      <td>Transient</td>\n",
              "      <td>98.0</td>\n",
              "      <td>0</td>\n",
              "      <td>1</td>\n",
              "      <td>Check-Out</td>\n",
              "      <td>2015-07-03</td>\n",
              "    </tr>\n",
              "  </tbody>\n",
              "</table>\n",
              "</div>\n",
              "      <button class=\"colab-df-convert\" onclick=\"convertToInteractive('df-fb4d7b5a-d977-4763-be50-bafe8b7acf17')\"\n",
              "              title=\"Convert this dataframe to an interactive table.\"\n",
              "              style=\"display:none;\">\n",
              "        \n",
              "  <svg xmlns=\"http://www.w3.org/2000/svg\" height=\"24px\"viewBox=\"0 0 24 24\"\n",
              "       width=\"24px\">\n",
              "    <path d=\"M0 0h24v24H0V0z\" fill=\"none\"/>\n",
              "    <path d=\"M18.56 5.44l.94 2.06.94-2.06 2.06-.94-2.06-.94-.94-2.06-.94 2.06-2.06.94zm-11 1L8.5 8.5l.94-2.06 2.06-.94-2.06-.94L8.5 2.5l-.94 2.06-2.06.94zm10 10l.94 2.06.94-2.06 2.06-.94-2.06-.94-.94-2.06-.94 2.06-2.06.94z\"/><path d=\"M17.41 7.96l-1.37-1.37c-.4-.4-.92-.59-1.43-.59-.52 0-1.04.2-1.43.59L10.3 9.45l-7.72 7.72c-.78.78-.78 2.05 0 2.83L4 21.41c.39.39.9.59 1.41.59.51 0 1.02-.2 1.41-.59l7.78-7.78 2.81-2.81c.8-.78.8-2.07 0-2.86zM5.41 20L4 18.59l7.72-7.72 1.47 1.35L5.41 20z\"/>\n",
              "  </svg>\n",
              "      </button>\n",
              "      \n",
              "  <style>\n",
              "    .colab-df-container {\n",
              "      display:flex;\n",
              "      flex-wrap:wrap;\n",
              "      gap: 12px;\n",
              "    }\n",
              "\n",
              "    .colab-df-convert {\n",
              "      background-color: #E8F0FE;\n",
              "      border: none;\n",
              "      border-radius: 50%;\n",
              "      cursor: pointer;\n",
              "      display: none;\n",
              "      fill: #1967D2;\n",
              "      height: 32px;\n",
              "      padding: 0 0 0 0;\n",
              "      width: 32px;\n",
              "    }\n",
              "\n",
              "    .colab-df-convert:hover {\n",
              "      background-color: #E2EBFA;\n",
              "      box-shadow: 0px 1px 2px rgba(60, 64, 67, 0.3), 0px 1px 3px 1px rgba(60, 64, 67, 0.15);\n",
              "      fill: #174EA6;\n",
              "    }\n",
              "\n",
              "    [theme=dark] .colab-df-convert {\n",
              "      background-color: #3B4455;\n",
              "      fill: #D2E3FC;\n",
              "    }\n",
              "\n",
              "    [theme=dark] .colab-df-convert:hover {\n",
              "      background-color: #434B5C;\n",
              "      box-shadow: 0px 1px 3px 1px rgba(0, 0, 0, 0.15);\n",
              "      filter: drop-shadow(0px 1px 2px rgba(0, 0, 0, 0.3));\n",
              "      fill: #FFFFFF;\n",
              "    }\n",
              "  </style>\n",
              "\n",
              "      <script>\n",
              "        const buttonEl =\n",
              "          document.querySelector('#df-fb4d7b5a-d977-4763-be50-bafe8b7acf17 button.colab-df-convert');\n",
              "        buttonEl.style.display =\n",
              "          google.colab.kernel.accessAllowed ? 'block' : 'none';\n",
              "\n",
              "        async function convertToInteractive(key) {\n",
              "          const element = document.querySelector('#df-fb4d7b5a-d977-4763-be50-bafe8b7acf17');\n",
              "          const dataTable =\n",
              "            await google.colab.kernel.invokeFunction('convertToInteractive',\n",
              "                                                     [key], {});\n",
              "          if (!dataTable) return;\n",
              "\n",
              "          const docLinkHtml = 'Like what you see? Visit the ' +\n",
              "            '<a target=\"_blank\" href=https://colab.research.google.com/notebooks/data_table.ipynb>data table notebook</a>'\n",
              "            + ' to learn more about interactive tables.';\n",
              "          element.innerHTML = '';\n",
              "          dataTable['output_type'] = 'display_data';\n",
              "          await google.colab.output.renderOutput(dataTable, element);\n",
              "          const docLink = document.createElement('div');\n",
              "          docLink.innerHTML = docLinkHtml;\n",
              "          element.appendChild(docLink);\n",
              "        }\n",
              "      </script>\n",
              "    </div>\n",
              "  </div>\n",
              "  "
            ],
            "text/plain": [
              "                       hotel  ...  reservation_status_date\n",
              "Transaction_Id                ...                         \n",
              "1001            Resort Hotel  ...               2015-07-01\n",
              "1002            Resort Hotel  ...               2015-07-01\n",
              "1003            Resort Hotel  ...               2015-07-02\n",
              "1004            Resort Hotel  ...               2015-07-02\n",
              "1005            Resort Hotel  ...               2015-07-03\n",
              "\n",
              "[5 rows x 32 columns]"
            ]
          },
          "metadata": {},
          "execution_count": 5
        }
      ]
    },
    {
      "cell_type": "markdown",
      "metadata": {
        "id": "z8pcdns5ap1B"
      },
      "source": [
        "# **Data Cleaning**"
      ]
    },
    {
      "cell_type": "code",
      "metadata": {
        "colab": {
          "base_uri": "https://localhost:8080/",
          "height": 364
        },
        "id": "SVEK7vxrbgTp",
        "outputId": "6de24d89-6aba-4d6f-f4d8-70987846161e"
      },
      "source": [
        "train_copy = train_data.copy()\n",
        "train_copy.describe()"
      ],
      "execution_count": 6,
      "outputs": [
        {
          "output_type": "execute_result",
          "data": {
            "text/html": [
              "\n",
              "  <div id=\"df-d287c8cf-a858-4bcc-b2ad-0e88a4c70e5a\">\n",
              "    <div class=\"colab-df-container\">\n",
              "      <div>\n",
              "<style scoped>\n",
              "    .dataframe tbody tr th:only-of-type {\n",
              "        vertical-align: middle;\n",
              "    }\n",
              "\n",
              "    .dataframe tbody tr th {\n",
              "        vertical-align: top;\n",
              "    }\n",
              "\n",
              "    .dataframe thead th {\n",
              "        text-align: right;\n",
              "    }\n",
              "</style>\n",
              "<table border=\"1\" class=\"dataframe\">\n",
              "  <thead>\n",
              "    <tr style=\"text-align: right;\">\n",
              "      <th></th>\n",
              "      <th>is_canceled</th>\n",
              "      <th>lead_time</th>\n",
              "      <th>arrival_date_year</th>\n",
              "      <th>arrival_date_week_number</th>\n",
              "      <th>arrival_date_day_of_month</th>\n",
              "      <th>stays_in_weekend_nights</th>\n",
              "      <th>stays_in_week_nights</th>\n",
              "      <th>adults</th>\n",
              "      <th>children</th>\n",
              "      <th>babies</th>\n",
              "      <th>is_repeated_guest</th>\n",
              "      <th>previous_cancellations</th>\n",
              "      <th>previous_bookings_not_canceled</th>\n",
              "      <th>booking_changes</th>\n",
              "      <th>agent</th>\n",
              "      <th>company</th>\n",
              "      <th>days_in_waiting_list</th>\n",
              "      <th>adr</th>\n",
              "      <th>required_car_parking_spaces</th>\n",
              "      <th>total_of_special_requests</th>\n",
              "    </tr>\n",
              "  </thead>\n",
              "  <tbody>\n",
              "    <tr>\n",
              "      <th>count</th>\n",
              "      <td>100000.000000</td>\n",
              "      <td>100000.000000</td>\n",
              "      <td>100000.00000</td>\n",
              "      <td>100000.000000</td>\n",
              "      <td>100000.000000</td>\n",
              "      <td>100000.00000</td>\n",
              "      <td>100000.00000</td>\n",
              "      <td>100000.000000</td>\n",
              "      <td>99996.000000</td>\n",
              "      <td>100000.000000</td>\n",
              "      <td>100000.000000</td>\n",
              "      <td>100000.000000</td>\n",
              "      <td>100000.000000</td>\n",
              "      <td>100000.000000</td>\n",
              "      <td>85565.000000</td>\n",
              "      <td>5923.000000</td>\n",
              "      <td>100000.000000</td>\n",
              "      <td>100000.000000</td>\n",
              "      <td>100000.000000</td>\n",
              "      <td>100000.000000</td>\n",
              "    </tr>\n",
              "    <tr>\n",
              "      <th>mean</th>\n",
              "      <td>0.442070</td>\n",
              "      <td>106.339730</td>\n",
              "      <td>2016.03237</td>\n",
              "      <td>27.630900</td>\n",
              "      <td>15.728930</td>\n",
              "      <td>0.94293</td>\n",
              "      <td>2.55361</td>\n",
              "      <td>1.855180</td>\n",
              "      <td>0.102164</td>\n",
              "      <td>0.008260</td>\n",
              "      <td>0.035490</td>\n",
              "      <td>0.103800</td>\n",
              "      <td>0.160390</td>\n",
              "      <td>0.207940</td>\n",
              "      <td>97.376416</td>\n",
              "      <td>179.686645</td>\n",
              "      <td>2.754230</td>\n",
              "      <td>99.478089</td>\n",
              "      <td>0.068790</td>\n",
              "      <td>0.516830</td>\n",
              "    </tr>\n",
              "    <tr>\n",
              "      <th>std</th>\n",
              "      <td>0.496635</td>\n",
              "      <td>108.218604</td>\n",
              "      <td>0.68646</td>\n",
              "      <td>13.401401</td>\n",
              "      <td>8.764458</td>\n",
              "      <td>1.02108</td>\n",
              "      <td>1.98035</td>\n",
              "      <td>0.587716</td>\n",
              "      <td>0.396599</td>\n",
              "      <td>0.100359</td>\n",
              "      <td>0.185016</td>\n",
              "      <td>0.921528</td>\n",
              "      <td>1.632382</td>\n",
              "      <td>0.629464</td>\n",
              "      <td>114.289032</td>\n",
              "      <td>129.212578</td>\n",
              "      <td>19.155146</td>\n",
              "      <td>51.674414</td>\n",
              "      <td>0.256434</td>\n",
              "      <td>0.762222</td>\n",
              "    </tr>\n",
              "    <tr>\n",
              "      <th>min</th>\n",
              "      <td>0.000000</td>\n",
              "      <td>0.000000</td>\n",
              "      <td>2015.00000</td>\n",
              "      <td>1.000000</td>\n",
              "      <td>1.000000</td>\n",
              "      <td>0.00000</td>\n",
              "      <td>0.00000</td>\n",
              "      <td>0.000000</td>\n",
              "      <td>0.000000</td>\n",
              "      <td>0.000000</td>\n",
              "      <td>0.000000</td>\n",
              "      <td>0.000000</td>\n",
              "      <td>0.000000</td>\n",
              "      <td>0.000000</td>\n",
              "      <td>1.000000</td>\n",
              "      <td>6.000000</td>\n",
              "      <td>0.000000</td>\n",
              "      <td>-6.380000</td>\n",
              "      <td>0.000000</td>\n",
              "      <td>0.000000</td>\n",
              "    </tr>\n",
              "    <tr>\n",
              "      <th>25%</th>\n",
              "      <td>0.000000</td>\n",
              "      <td>18.000000</td>\n",
              "      <td>2016.00000</td>\n",
              "      <td>17.000000</td>\n",
              "      <td>8.000000</td>\n",
              "      <td>0.00000</td>\n",
              "      <td>1.00000</td>\n",
              "      <td>2.000000</td>\n",
              "      <td>0.000000</td>\n",
              "      <td>0.000000</td>\n",
              "      <td>0.000000</td>\n",
              "      <td>0.000000</td>\n",
              "      <td>0.000000</td>\n",
              "      <td>0.000000</td>\n",
              "      <td>9.000000</td>\n",
              "      <td>51.000000</td>\n",
              "      <td>0.000000</td>\n",
              "      <td>65.000000</td>\n",
              "      <td>0.000000</td>\n",
              "      <td>0.000000</td>\n",
              "    </tr>\n",
              "    <tr>\n",
              "      <th>50%</th>\n",
              "      <td>0.000000</td>\n",
              "      <td>71.000000</td>\n",
              "      <td>2016.00000</td>\n",
              "      <td>28.000000</td>\n",
              "      <td>16.000000</td>\n",
              "      <td>1.00000</td>\n",
              "      <td>2.00000</td>\n",
              "      <td>2.000000</td>\n",
              "      <td>0.000000</td>\n",
              "      <td>0.000000</td>\n",
              "      <td>0.000000</td>\n",
              "      <td>0.000000</td>\n",
              "      <td>0.000000</td>\n",
              "      <td>0.000000</td>\n",
              "      <td>20.000000</td>\n",
              "      <td>174.000000</td>\n",
              "      <td>0.000000</td>\n",
              "      <td>90.065000</td>\n",
              "      <td>0.000000</td>\n",
              "      <td>0.000000</td>\n",
              "    </tr>\n",
              "    <tr>\n",
              "      <th>75%</th>\n",
              "      <td>1.000000</td>\n",
              "      <td>165.000000</td>\n",
              "      <td>2017.00000</td>\n",
              "      <td>39.000000</td>\n",
              "      <td>23.000000</td>\n",
              "      <td>2.00000</td>\n",
              "      <td>3.00000</td>\n",
              "      <td>2.000000</td>\n",
              "      <td>0.000000</td>\n",
              "      <td>0.000000</td>\n",
              "      <td>0.000000</td>\n",
              "      <td>0.000000</td>\n",
              "      <td>0.000000</td>\n",
              "      <td>0.000000</td>\n",
              "      <td>240.000000</td>\n",
              "      <td>251.000000</td>\n",
              "      <td>0.000000</td>\n",
              "      <td>123.000000</td>\n",
              "      <td>0.000000</td>\n",
              "      <td>1.000000</td>\n",
              "    </tr>\n",
              "    <tr>\n",
              "      <th>max</th>\n",
              "      <td>1.000000</td>\n",
              "      <td>737.000000</td>\n",
              "      <td>2017.00000</td>\n",
              "      <td>53.000000</td>\n",
              "      <td>31.000000</td>\n",
              "      <td>19.00000</td>\n",
              "      <td>50.00000</td>\n",
              "      <td>55.000000</td>\n",
              "      <td>10.000000</td>\n",
              "      <td>10.000000</td>\n",
              "      <td>1.000000</td>\n",
              "      <td>26.000000</td>\n",
              "      <td>72.000000</td>\n",
              "      <td>21.000000</td>\n",
              "      <td>535.000000</td>\n",
              "      <td>543.000000</td>\n",
              "      <td>391.000000</td>\n",
              "      <td>5400.000000</td>\n",
              "      <td>8.000000</td>\n",
              "      <td>5.000000</td>\n",
              "    </tr>\n",
              "  </tbody>\n",
              "</table>\n",
              "</div>\n",
              "      <button class=\"colab-df-convert\" onclick=\"convertToInteractive('df-d287c8cf-a858-4bcc-b2ad-0e88a4c70e5a')\"\n",
              "              title=\"Convert this dataframe to an interactive table.\"\n",
              "              style=\"display:none;\">\n",
              "        \n",
              "  <svg xmlns=\"http://www.w3.org/2000/svg\" height=\"24px\"viewBox=\"0 0 24 24\"\n",
              "       width=\"24px\">\n",
              "    <path d=\"M0 0h24v24H0V0z\" fill=\"none\"/>\n",
              "    <path d=\"M18.56 5.44l.94 2.06.94-2.06 2.06-.94-2.06-.94-.94-2.06-.94 2.06-2.06.94zm-11 1L8.5 8.5l.94-2.06 2.06-.94-2.06-.94L8.5 2.5l-.94 2.06-2.06.94zm10 10l.94 2.06.94-2.06 2.06-.94-2.06-.94-.94-2.06-.94 2.06-2.06.94z\"/><path d=\"M17.41 7.96l-1.37-1.37c-.4-.4-.92-.59-1.43-.59-.52 0-1.04.2-1.43.59L10.3 9.45l-7.72 7.72c-.78.78-.78 2.05 0 2.83L4 21.41c.39.39.9.59 1.41.59.51 0 1.02-.2 1.41-.59l7.78-7.78 2.81-2.81c.8-.78.8-2.07 0-2.86zM5.41 20L4 18.59l7.72-7.72 1.47 1.35L5.41 20z\"/>\n",
              "  </svg>\n",
              "      </button>\n",
              "      \n",
              "  <style>\n",
              "    .colab-df-container {\n",
              "      display:flex;\n",
              "      flex-wrap:wrap;\n",
              "      gap: 12px;\n",
              "    }\n",
              "\n",
              "    .colab-df-convert {\n",
              "      background-color: #E8F0FE;\n",
              "      border: none;\n",
              "      border-radius: 50%;\n",
              "      cursor: pointer;\n",
              "      display: none;\n",
              "      fill: #1967D2;\n",
              "      height: 32px;\n",
              "      padding: 0 0 0 0;\n",
              "      width: 32px;\n",
              "    }\n",
              "\n",
              "    .colab-df-convert:hover {\n",
              "      background-color: #E2EBFA;\n",
              "      box-shadow: 0px 1px 2px rgba(60, 64, 67, 0.3), 0px 1px 3px 1px rgba(60, 64, 67, 0.15);\n",
              "      fill: #174EA6;\n",
              "    }\n",
              "\n",
              "    [theme=dark] .colab-df-convert {\n",
              "      background-color: #3B4455;\n",
              "      fill: #D2E3FC;\n",
              "    }\n",
              "\n",
              "    [theme=dark] .colab-df-convert:hover {\n",
              "      background-color: #434B5C;\n",
              "      box-shadow: 0px 1px 3px 1px rgba(0, 0, 0, 0.15);\n",
              "      filter: drop-shadow(0px 1px 2px rgba(0, 0, 0, 0.3));\n",
              "      fill: #FFFFFF;\n",
              "    }\n",
              "  </style>\n",
              "\n",
              "      <script>\n",
              "        const buttonEl =\n",
              "          document.querySelector('#df-d287c8cf-a858-4bcc-b2ad-0e88a4c70e5a button.colab-df-convert');\n",
              "        buttonEl.style.display =\n",
              "          google.colab.kernel.accessAllowed ? 'block' : 'none';\n",
              "\n",
              "        async function convertToInteractive(key) {\n",
              "          const element = document.querySelector('#df-d287c8cf-a858-4bcc-b2ad-0e88a4c70e5a');\n",
              "          const dataTable =\n",
              "            await google.colab.kernel.invokeFunction('convertToInteractive',\n",
              "                                                     [key], {});\n",
              "          if (!dataTable) return;\n",
              "\n",
              "          const docLinkHtml = 'Like what you see? Visit the ' +\n",
              "            '<a target=\"_blank\" href=https://colab.research.google.com/notebooks/data_table.ipynb>data table notebook</a>'\n",
              "            + ' to learn more about interactive tables.';\n",
              "          element.innerHTML = '';\n",
              "          dataTable['output_type'] = 'display_data';\n",
              "          await google.colab.output.renderOutput(dataTable, element);\n",
              "          const docLink = document.createElement('div');\n",
              "          docLink.innerHTML = docLinkHtml;\n",
              "          element.appendChild(docLink);\n",
              "        }\n",
              "      </script>\n",
              "    </div>\n",
              "  </div>\n",
              "  "
            ],
            "text/plain": [
              "         is_canceled  ...  total_of_special_requests\n",
              "count  100000.000000  ...              100000.000000\n",
              "mean        0.442070  ...                   0.516830\n",
              "std         0.496635  ...                   0.762222\n",
              "min         0.000000  ...                   0.000000\n",
              "25%         0.000000  ...                   0.000000\n",
              "50%         0.000000  ...                   0.000000\n",
              "75%         1.000000  ...                   1.000000\n",
              "max         1.000000  ...                   5.000000\n",
              "\n",
              "[8 rows x 20 columns]"
            ]
          },
          "metadata": {},
          "execution_count": 6
        }
      ]
    },
    {
      "cell_type": "markdown",
      "metadata": {
        "id": "lMlCer8mbNqK"
      },
      "source": [
        "1. **Missing Values**"
      ]
    },
    {
      "cell_type": "code",
      "metadata": {
        "colab": {
          "base_uri": "https://localhost:8080/"
        },
        "id": "ppvvPOYlaYDP",
        "outputId": "e0668bb1-8d13-4ee8-e718-a0c101fc1343"
      },
      "source": [
        "train_copy.isnull().sum().sort_values(ascending=False)[:5]"
      ],
      "execution_count": 7,
      "outputs": [
        {
          "output_type": "execute_result",
          "data": {
            "text/plain": [
              "company      94077\n",
              "agent        14435\n",
              "country        487\n",
              "children         4\n",
              "lead_time        0\n",
              "dtype: int64"
            ]
          },
          "metadata": {},
          "execution_count": 7
        }
      ]
    },
    {
      "cell_type": "markdown",
      "metadata": {
        "id": "5flx-bHEcI6c"
      },
      "source": [
        "The company and agent corresponds to the respective IDs (may be a foriegn key). Hence, we can replace the missing values with 0 indicating the record has no agent or company involved"
      ]
    },
    {
      "cell_type": "code",
      "metadata": {
        "id": "5VaBXGlEbYxR"
      },
      "source": [
        "train_copy['company'].fillna(0, inplace=True)\n",
        "train_copy['agent'].fillna(0, inplace=True)"
      ],
      "execution_count": 8,
      "outputs": []
    },
    {
      "cell_type": "code",
      "metadata": {
        "colab": {
          "base_uri": "https://localhost:8080/"
        },
        "id": "Ca5GRW4ZcTbh",
        "outputId": "bf7075ea-9804-4681-9e79-be5635424c1c"
      },
      "source": [
        "train_copy['country'].value_counts()"
      ],
      "execution_count": 9,
      "outputs": [
        {
          "output_type": "execute_result",
          "data": {
            "text/plain": [
              "PRT    45875\n",
              "GBR    10040\n",
              "ESP     7333\n",
              "FRA     7179\n",
              "DEU     4974\n",
              "       ...  \n",
              "NPL        1\n",
              "PLW        1\n",
              "ATA        1\n",
              "MMR        1\n",
              "GUY        1\n",
              "Name: country, Length: 168, dtype: int64"
            ]
          },
          "metadata": {},
          "execution_count": 9
        }
      ]
    },
    {
      "cell_type": "markdown",
      "metadata": {
        "id": "LQ6zD2spcnz7"
      },
      "source": [
        "The most repeating attribute of the feature is PRT (Portugal) and it can be a good measure of central tendancy due to the number of observations, hence we can replace the missing values with the mode."
      ]
    },
    {
      "cell_type": "code",
      "metadata": {
        "id": "akst-ciIcmcw"
      },
      "source": [
        "train_copy['country'].fillna(train_data.country.mode().to_string(), inplace=True)"
      ],
      "execution_count": 10,
      "outputs": []
    },
    {
      "cell_type": "code",
      "metadata": {
        "colab": {
          "base_uri": "https://localhost:8080/"
        },
        "id": "2FPHRv4Cc96p",
        "outputId": "4b3b052b-7737-4115-d6f7-56f5585442bf"
      },
      "source": [
        "train_copy['children'].describe()"
      ],
      "execution_count": 11,
      "outputs": [
        {
          "output_type": "execute_result",
          "data": {
            "text/plain": [
              "count    99996.000000\n",
              "mean         0.102164\n",
              "std          0.396599\n",
              "min          0.000000\n",
              "25%          0.000000\n",
              "50%          0.000000\n",
              "75%          0.000000\n",
              "max         10.000000\n",
              "Name: children, dtype: float64"
            ]
          },
          "metadata": {},
          "execution_count": 11
        }
      ]
    },
    {
      "cell_type": "markdown",
      "metadata": {
        "id": "HZDhNcDOdGyd"
      },
      "source": [
        "For Children, we can use the mean, which would be a good measure of central tendancy, to fill in the missing values."
      ]
    },
    {
      "cell_type": "code",
      "metadata": {
        "id": "s-GeXxkhdDxD"
      },
      "source": [
        "train_copy['children'].fillna(train_data.children.mean(), inplace=True)"
      ],
      "execution_count": 12,
      "outputs": []
    },
    {
      "cell_type": "code",
      "metadata": {
        "colab": {
          "base_uri": "https://localhost:8080/"
        },
        "id": "sQjDxwlMdce-",
        "outputId": "df8e640d-2ecf-433e-a832-c49ce14a3d39"
      },
      "source": [
        "train_copy.isnull().sum().sort_values(ascending=False)[0:30]"
      ],
      "execution_count": 13,
      "outputs": [
        {
          "output_type": "execute_result",
          "data": {
            "text/plain": [
              "reservation_status_date           0\n",
              "reservation_status                0\n",
              "is_canceled                       0\n",
              "lead_time                         0\n",
              "arrival_date_year                 0\n",
              "arrival_date_month                0\n",
              "arrival_date_week_number          0\n",
              "arrival_date_day_of_month         0\n",
              "stays_in_weekend_nights           0\n",
              "stays_in_week_nights              0\n",
              "adults                            0\n",
              "children                          0\n",
              "babies                            0\n",
              "meal                              0\n",
              "country                           0\n",
              "market_segment                    0\n",
              "distribution_channel              0\n",
              "is_repeated_guest                 0\n",
              "previous_cancellations            0\n",
              "previous_bookings_not_canceled    0\n",
              "reserved_room_type                0\n",
              "assigned_room_type                0\n",
              "booking_changes                   0\n",
              "deposit_type                      0\n",
              "agent                             0\n",
              "company                           0\n",
              "days_in_waiting_list              0\n",
              "customer_type                     0\n",
              "adr                               0\n",
              "required_car_parking_spaces       0\n",
              "dtype: int64"
            ]
          },
          "metadata": {},
          "execution_count": 13
        }
      ]
    },
    {
      "cell_type": "markdown",
      "metadata": {
        "id": "vMPMiMJLdvok"
      },
      "source": [
        "**Data Type Conversion**"
      ]
    },
    {
      "cell_type": "code",
      "metadata": {
        "colab": {
          "base_uri": "https://localhost:8080/"
        },
        "id": "qumGC2jkdiVs",
        "outputId": "0a92df4c-cc7d-42d3-d7d6-1629bae925ea"
      },
      "source": [
        "train_copy.dtypes"
      ],
      "execution_count": 14,
      "outputs": [
        {
          "output_type": "execute_result",
          "data": {
            "text/plain": [
              "hotel                              object\n",
              "is_canceled                         int64\n",
              "lead_time                           int64\n",
              "arrival_date_year                   int64\n",
              "arrival_date_month                 object\n",
              "arrival_date_week_number            int64\n",
              "arrival_date_day_of_month           int64\n",
              "stays_in_weekend_nights             int64\n",
              "stays_in_week_nights                int64\n",
              "adults                              int64\n",
              "children                          float64\n",
              "babies                              int64\n",
              "meal                               object\n",
              "country                            object\n",
              "market_segment                     object\n",
              "distribution_channel               object\n",
              "is_repeated_guest                   int64\n",
              "previous_cancellations              int64\n",
              "previous_bookings_not_canceled      int64\n",
              "reserved_room_type                 object\n",
              "assigned_room_type                 object\n",
              "booking_changes                     int64\n",
              "deposit_type                       object\n",
              "agent                             float64\n",
              "company                           float64\n",
              "days_in_waiting_list                int64\n",
              "customer_type                      object\n",
              "adr                               float64\n",
              "required_car_parking_spaces         int64\n",
              "total_of_special_requests           int64\n",
              "reservation_status                 object\n",
              "reservation_status_date            object\n",
              "dtype: object"
            ]
          },
          "metadata": {},
          "execution_count": 14
        }
      ]
    },
    {
      "cell_type": "code",
      "metadata": {
        "colab": {
          "base_uri": "https://localhost:8080/"
        },
        "id": "OEZafAWfesoz",
        "outputId": "ed43ca53-f517-4445-914c-b61d5e8ffa41"
      },
      "source": [
        "train_copy[['children', 'company', 'agent']] = train_copy[['children', 'company', 'agent']].astype('int64')\n",
        "train_copy.dtypes"
      ],
      "execution_count": 15,
      "outputs": [
        {
          "output_type": "execute_result",
          "data": {
            "text/plain": [
              "hotel                              object\n",
              "is_canceled                         int64\n",
              "lead_time                           int64\n",
              "arrival_date_year                   int64\n",
              "arrival_date_month                 object\n",
              "arrival_date_week_number            int64\n",
              "arrival_date_day_of_month           int64\n",
              "stays_in_weekend_nights             int64\n",
              "stays_in_week_nights                int64\n",
              "adults                              int64\n",
              "children                            int64\n",
              "babies                              int64\n",
              "meal                               object\n",
              "country                            object\n",
              "market_segment                     object\n",
              "distribution_channel               object\n",
              "is_repeated_guest                   int64\n",
              "previous_cancellations              int64\n",
              "previous_bookings_not_canceled      int64\n",
              "reserved_room_type                 object\n",
              "assigned_room_type                 object\n",
              "booking_changes                     int64\n",
              "deposit_type                       object\n",
              "agent                               int64\n",
              "company                             int64\n",
              "days_in_waiting_list                int64\n",
              "customer_type                      object\n",
              "adr                               float64\n",
              "required_car_parking_spaces         int64\n",
              "total_of_special_requests           int64\n",
              "reservation_status                 object\n",
              "reservation_status_date            object\n",
              "dtype: object"
            ]
          },
          "metadata": {},
          "execution_count": 15
        }
      ]
    },
    {
      "cell_type": "code",
      "metadata": {
        "id": "nGl3-jnTe591"
      },
      "source": [
        "train_data = train_copy"
      ],
      "execution_count": 16,
      "outputs": []
    },
    {
      "cell_type": "markdown",
      "metadata": {
        "id": "nMDWN8Xzf2Gy"
      },
      "source": [
        "# Data Analysis"
      ]
    },
    {
      "cell_type": "markdown",
      "metadata": {
        "id": "mliNrdnnf-Gl"
      },
      "source": [
        "** **bold text**Utility Functions**"
      ]
    },
    {
      "cell_type": "code",
      "metadata": {
        "id": "1DBBhTWpfFCz"
      },
      "source": [
        "def getCount(series):\n",
        "    '''\n",
        "       Takes in a series as input and returns the unique attributes along with its percentage\n",
        "       \n",
        "       Input:\n",
        "           pandas series\n",
        "       \n",
        "       Output:\n",
        "           X: Unique attributes in the series Y: % of unique attributes in the series\n",
        "    '''\n",
        "    count = series.value_counts()\n",
        "    xValues = count.index\n",
        "    yPercent = (count/count.sum())*100\n",
        "    return xValues, yPercent"
      ],
      "execution_count": 17,
      "outputs": []
    },
    {
      "cell_type": "code",
      "metadata": {
        "id": "P9EDLCW_gG3X"
      },
      "source": [
        "def myPlot(x,y,xLable,yLable,title,figsize,type):\n",
        "    '''\n",
        "        Takes in the series of data x and y along with the XLables, YLables, Title, Figure Size and Type of the chart to plot and plots the chart\n",
        "        \n",
        "        Input:\n",
        "            x -> pandas series\n",
        "            y -> pandas series\n",
        "            XLable -> string corresponding to the lable for X Axis\n",
        "            YLable -> string corresponding to the lable for Y Axis\n",
        "            Title -> string corresponding to the Title of the graph\n",
        "            Figure Size -> Size of the intended graph\n",
        "            Type -> chart type\n",
        "        Output:\n",
        "            Plots the graph\n",
        "    '''\n",
        "    sns.set_style('whitegrid')\n",
        "    fig,axes = plt.subplots(figsize=figsize)\n",
        "    axes.yaxis.set_major_formatter(mtick.PercentFormatter())\n",
        "    axes.set_xlabel(xLable)\n",
        "    axes.set_ylabel(yLable)\n",
        "    if(title!=None):\n",
        "        axes.set_title(title)\n",
        "    if(type=='bar'):\n",
        "        sns.barplot(x=x,y=y,ax=axes)\n",
        "    if(type=='line'):\n",
        "        sns.lineplot(x=x,y=y,ax=axes,sort=False)\n",
        "    plt.show()"
      ],
      "execution_count": 18,
      "outputs": []
    },
    {
      "cell_type": "markdown",
      "metadata": {
        "id": "js9IqoAjgVBK"
      },
      "source": [
        "1. How many bookings got cancelled?"
      ]
    },
    {
      "cell_type": "code",
      "metadata": {
        "colab": {
          "base_uri": "https://localhost:8080/",
          "height": 513
        },
        "id": "ddF-Q2G8gPqA",
        "outputId": "d42ab30f-f377-4a71-b242-cbd364275d88"
      },
      "source": [
        "xCancelled, yCancelled = getCount(train_data[\"is_canceled\"])\n",
        "myPlot(xCancelled, yCancelled, xLable=\"Cancellation Status (1=Yes, 0=No)\", yLable=\"% Percentage\", title=\"Booking Cancellation ratio\",figsize=(5,8),type='bar')"
      ],
      "execution_count": 19,
      "outputs": [
        {
          "output_type": "display_data",
          "data": {
            "image/png": "[encoded data removed]",
            "text/plain": [
              "<Figure size 360x576 with 1 Axes>"
            ]
          },
          "metadata": {}
        }
      ]
    },
    {
      "cell_type": "markdown",
      "metadata": {
        "id": "waBNHkPGhWIY"
      },
      "source": [
        "2. Booking cancellation ratio (by hotel type)?"
      ]
    },
    {
      "cell_type": "code",
      "metadata": {
        "colab": {
          "base_uri": "https://localhost:8080/",
          "height": 514
        },
        "id": "v4xOVpKBgwoO",
        "outputId": "b7eb9fc8-25de-4552-8197-4d8021cd2429"
      },
      "source": [
        "plt.subplots(figsize=(6,8))\n",
        "sns.countplot(x='hotel',hue='is_canceled',data=train_data)"
      ],
      "execution_count": 20,
      "outputs": [
        {
          "output_type": "execute_result",
          "data": {
            "text/plain": [
              "<matplotlib.axes._subplots.AxesSubplot at 0x7f9e7c4aa550>"
            ]
          },
          "metadata": {},
          "execution_count": 20
        },
        {
          "output_type": "display_data",
          "data": {
            "image/png": "[encoded data removed]",
            "text/plain": [
              "<Figure size 432x576 with 1 Axes>"
            ]
          },
          "metadata": {}
        }
      ]
    },
    {
      "cell_type": "markdown",
      "metadata": {
        "id": "sLIRKuHPiC66"
      },
      "source": [
        "3. Booking cancellation with respect to the months?"
      ]
    },
    {
      "cell_type": "code",
      "metadata": {
        "colab": {
          "base_uri": "https://localhost:8080/",
          "height": 487
        },
        "id": "jJmU_W_IhnD6",
        "outputId": "75e9493f-eda3-4b5e-bc69-9dcddfd88856"
      },
      "source": [
        "train_new = train_data.copy()\n",
        "train_new['arrival_date_comb']= train_new['arrival_date_month'] + train_new['arrival_date_year'].astype(str)\n",
        "train_new['arrival_date_comb']= train_new['arrival_date_month'] + train_new['arrival_date_year'].astype(str)\n",
        "plt.subplots(figsize=(30,15))\n",
        "sns.countplot(x='arrival_date_comb',hue='is_canceled',data=train_new)"
      ],
      "execution_count": 21,
      "outputs": [
        {
          "output_type": "execute_result",
          "data": {
            "text/plain": [
              "<matplotlib.axes._subplots.AxesSubplot at 0x7f9e7d9874d0>"
            ]
          },
          "metadata": {},
          "execution_count": 21
        },
        {
          "output_type": "display_data",
          "data": {
            "image/png": "[encoded data removed]",
            "text/plain": [
              "<Figure size 2160x1080 with 1 Axes>"
            ]
          },
          "metadata": {}
        }
      ]
    },
    {
      "cell_type": "code",
      "metadata": {
        "colab": {
          "base_uri": "https://localhost:8080/",
          "height": 515
        },
        "id": "c2s8rpDNiPOo",
        "outputId": "7cb31b20-7b55-444e-8504-64558f3582cb"
      },
      "source": [
        "plt.subplots(figsize=(12,8))\n",
        "sns.countplot(x='arrival_date_month',hue='is_canceled',data=train_data)"
      ],
      "execution_count": 22,
      "outputs": [
        {
          "output_type": "execute_result",
          "data": {
            "text/plain": [
              "<matplotlib.axes._subplots.AxesSubplot at 0x7f9e7d957910>"
            ]
          },
          "metadata": {},
          "execution_count": 22
        },
        {
          "output_type": "display_data",
          "data": {
            "image/png": "[encoded data removed]",
            "text/plain": [
              "<Figure size 864x576 with 1 Axes>"
            ]
          },
          "metadata": {}
        }
      ]
    },
    {
      "cell_type": "code",
      "metadata": {
        "colab": {
          "base_uri": "https://localhost:8080/"
        },
        "id": "e6Sm4ypGi_vd",
        "outputId": "0c758d99-f691-4e6b-a49b-cfc5d7d53606"
      },
      "source": [
        "train_data['arrival_date'] = train_data['arrival_date_year'].astype(str) + '-' + train_data['arrival_date_month'] + '-' + train_data['arrival_date_day_of_month'].astype(str)\n",
        "train_data['arrival_date'] = train_data['arrival_date'].apply(pd.to_datetime)\n",
        "train_data['reservation_status_date'] = train_data['reservation_status_date'].apply(pd.to_datetime)\n",
        "cancelled_data = train_data[train_data['reservation_status'] == 'Canceled']\n",
        "cancelled_data['canc_to_arrival_days'] = cancelled_data['arrival_date'] - cancelled_data['reservation_status_date']\n",
        "cancelled_data['canc_to_arrival_days'] = cancelled_data['canc_to_arrival_days'].dt.days"
      ],
      "execution_count": 23,
      "outputs": [
        {
          "output_type": "stream",
          "name": "stderr",
          "text": [
            "/usr/local/lib/python3.7/dist-packages/ipykernel_launcher.py:5: SettingWithCopyWarning: \n",
            "A value is trying to be set on a copy of a slice from a DataFrame.\n",
            "Try using .loc[row_indexer,col_indexer] = value instead\n",
            "\n",
            "See the caveats in the documentation: https://pandas.pydata.org/pandas-docs/stable/user_guide/indexing.html#returning-a-view-versus-a-copy\n",
            "  \"\"\"\n",
            "/usr/local/lib/python3.7/dist-packages/ipykernel_launcher.py:6: SettingWithCopyWarning: \n",
            "A value is trying to be set on a copy of a slice from a DataFrame.\n",
            "Try using .loc[row_indexer,col_indexer] = value instead\n",
            "\n",
            "See the caveats in the documentation: https://pandas.pydata.org/pandas-docs/stable/user_guide/indexing.html#returning-a-view-versus-a-copy\n",
            "  \n"
          ]
        }
      ]
    },
    {
      "cell_type": "markdown",
      "metadata": {
        "id": "tUeOCf7FjoCx"
      },
      "source": [
        "4. Cancellations with respect to the Market Segment"
      ]
    },
    {
      "cell_type": "code",
      "metadata": {
        "colab": {
          "base_uri": "https://localhost:8080/",
          "height": 663
        },
        "id": "Nfae3WZMkUYo",
        "outputId": "0241deae-8783-4674-dfb9-9411d06162cc"
      },
      "source": [
        "plt.figure(figsize=(12,12))\n",
        "explode = [0.005] * len(cancelled_data['market_segment'].unique())\n",
        "colors = ['royalblue','orange','y','darkgreen','gray','purple','red','lightblue']\n",
        "plt.pie(cancelled_data['market_segment'].value_counts(),\n",
        "       autopct = '%.1f%%',\n",
        "       explode = explode,\n",
        "       colors = colors)\n",
        "plt.legend(cancelled_data['market_segment'].unique(), bbox_to_anchor=(-0.1, 1.),\n",
        "           fontsize=14)\n",
        "plt.title('Market Segment vs Cancelled Bookings')\n",
        "plt.tight_layout()\n",
        "plt.show()"
      ],
      "execution_count": 24,
      "outputs": [
        {
          "output_type": "display_data",
          "data": {
            "image/png": "[encoded data removed]",
            "text/plain": [
              "<Figure size 864x864 with 1 Axes>"
            ]
          },
          "metadata": {}
        }
      ]
    },
    {
      "cell_type": "markdown",
      "metadata": {
        "id": "EGFRPI16oXFy"
      },
      "source": [
        "5. Cancellation By Customer With Deposit Type."
      ]
    },
    {
      "cell_type": "code",
      "metadata": {
        "colab": {
          "base_uri": "https://localhost:8080/",
          "height": 693
        },
        "id": "02jjatcgoBOy",
        "outputId": "7328b86b-8f0a-411b-f280-f00b731d4d9e"
      },
      "source": [
        "plt.figure(figsize=(12,12))\n",
        "explode = [0.005] * len(cancelled_data['deposit_type'].unique())\n",
        "colors = ['royalblue','orange','y','darkgreen','gray','purple','red','lightblue']\n",
        "plt.pie(cancelled_data['deposit_type'].value_counts(),\n",
        "       autopct = '%.1f%%',\n",
        "       explode = explode,\n",
        "       colors = colors)\n",
        "plt.legend(cancelled_data['deposit_type'].unique(), bbox_to_anchor=(-0.1, 1.),\n",
        "           fontsize=14)\n",
        "plt.title('Deposit Type vs Cancelled Bookings')\n",
        "plt.tight_layout()\n",
        "plt.show()"
      ],
      "execution_count": 25,
      "outputs": [
        {
          "output_type": "display_data",
          "data": {
            "image/png": "[encoded data removed]",
            "text/plain": [
              "<Figure size 864x864 with 1 Axes>"
            ]
          },
          "metadata": {}
        }
      ]
    },
    {
      "cell_type": "markdown",
      "metadata": {
        "id": "yf_OrfCPo8cX"
      },
      "source": [
        "6. Cancelation With Respect To Arrival Date"
      ]
    },
    {
      "cell_type": "code",
      "metadata": {
        "colab": {
          "base_uri": "https://localhost:8080/",
          "height": 461
        },
        "id": "0TcyC4IQoevm",
        "outputId": "1eeb068a-e5dc-4a2b-c92a-fb65efe559b9"
      },
      "source": [
        "plt.figure(figsize=(14,6))\n",
        "sns.distplot(cancelled_data['canc_to_arrival_days'])\n",
        "plt.show()\n",
        "\n",
        "print('Percentage of cancellations that are within a week of arrival: ', \n",
        "      (cancelled_data[cancelled_data['canc_to_arrival_days']<=7]['canc_to_arrival_days'].count()*100/cancelled_data['canc_to_arrival_days'].count()).round(2), '%')"
      ],
      "execution_count": 26,
      "outputs": [
        {
          "output_type": "stream",
          "name": "stderr",
          "text": [
            "/usr/local/lib/python3.7/dist-packages/seaborn/distributions.py:2619: FutureWarning: `distplot` is a deprecated function and will be removed in a future version. Please adapt your code to use either `displot` (a figure-level function with similar flexibility) or `histplot` (an axes-level function for histograms).\n",
            "  warnings.warn(msg, FutureWarning)\n"
          ]
        },
        {
          "output_type": "display_data",
          "data": {
            "image/png": "[encoded data removed]",
            "text/plain": [
              "<Figure size 1008x432 with 1 Axes>"
            ]
          },
          "metadata": {}
        },
        {
          "output_type": "stream",
          "name": "stdout",
          "text": [
            "Percentage of cancellations that are within a week of arrival:  11.92 %\n"
          ]
        }
      ]
    },
    {
      "cell_type": "markdown",
      "metadata": {
        "id": "tGndYwLEpbpY"
      },
      "source": [
        "# Data Preprocessing"
      ]
    },
    {
      "cell_type": "markdown",
      "metadata": {
        "id": "Je8FSsMXpp5Q"
      },
      "source": [
        "Feature Selection and Feature Engineering"
      ]
    },
    {
      "cell_type": "code",
      "metadata": {
        "colab": {
          "base_uri": "https://localhost:8080/",
          "height": 637
        },
        "id": "l9n8n3S0Unu0",
        "outputId": "7c8fe8b5-15dd-47d6-bbef-93f5196a158f"
      },
      "source": [
        "plt.figure(figsize=(12,8))\n",
        "train_data.corr()['is_canceled'].sort_values()[:-1].plot(kind='bar')\n",
        "plt.show()"
      ],
      "execution_count": 28,
      "outputs": [
        {
          "output_type": "display_data",
          "data": {
            "image/png": "[encoded data removed]",
            "text/plain": [
              "<Figure size 864x576 with 1 Axes>"
            ]
          },
          "metadata": {}
        }
      ]
    },
    {
      "cell_type": "markdown",
      "metadata": {
        "id": "Xj5hONDIUuPU"
      },
      "source": [
        "The attributes assigned_room_type and reserved_room_type are important features to consider the cancellation rate, therefore we can combine these two features as a single feature is_assigned_same_room"
      ]
    },
    {
      "cell_type": "code",
      "metadata": {
        "id": "fp9EELOhUzxR"
      },
      "source": [
        "train_data['is_assigned_same_room'] = 0\n",
        "train_data.loc[train_data['reserved_room_type']==train_data['assigned_room_type'],'is_assigned_same_room']=1"
      ],
      "execution_count": 29,
      "outputs": []
    },
    {
      "cell_type": "markdown",
      "metadata": {
        "id": "zL2JVK4vU-0W"
      },
      "source": [
        "The attributes previous_cancellations and previous_booking_not_cancelled are important features to consider the cancellation rate, therefore we can combine these two features as a single feature is_cancelled_high"
      ]
    },
    {
      "cell_type": "code",
      "metadata": {
        "id": "SHDp0b7sVAw9"
      },
      "source": [
        "train_data['is_cancelled_high'] = 0\n",
        "train_data.loc[train_data['previous_cancellations']>train_data['previous_bookings_not_canceled'], 'is_cancelled_high']=1"
      ],
      "execution_count": 30,
      "outputs": []
    },
    {
      "cell_type": "code",
      "metadata": {
        "colab": {
          "base_uri": "https://localhost:8080/",
          "height": 637
        },
        "id": "B_A8zDU0VEwH",
        "outputId": "dabbae03-171f-426b-9d05-b998b10dccbf"
      },
      "source": [
        "plt.figure(figsize=(12,8))\n",
        "train_data.corr()['is_canceled'].sort_values()[:-1].plot(kind='bar')\n",
        "plt.show()"
      ],
      "execution_count": 31,
      "outputs": [
        {
          "output_type": "display_data",
          "data": {
            "image/png": "[encoded data removed]",
            "text/plain": [
              "<Figure size 864x576 with 1 Axes>"
            ]
          },
          "metadata": {}
        }
      ]
    },
    {
      "cell_type": "markdown",
      "metadata": {
        "id": "Zplf-A9NVcHt"
      },
      "source": [
        "The correlation coefficients of lead_time, is_assigned_same_room, is_cancelled_high is considerably good and have a positive correlation\n",
        "Hence, this can be made as the primary features\n",
        "Next, we remove the attributes with less important features bold text"
      ]
    },
    {
      "cell_type": "code",
      "metadata": {
        "id": "CJi5rCbFpHYP"
      },
      "source": [
        "train_data = train_data.drop(['meal','country','reserved_room_type','assigned_room_type','deposit_type','reservation_status','reservation_status_date','arrival_date'], axis=1)"
      ],
      "execution_count": 32,
      "outputs": []
    },
    {
      "cell_type": "markdown",
      "metadata": {
        "id": "ZjEHdoZkV4Hw"
      },
      "source": [
        "# Transformations"
      ]
    },
    {
      "cell_type": "markdown",
      "metadata": {
        "id": "HozfLrY9WJK8"
      },
      "source": [
        "Utility functions"
      ]
    },
    {
      "cell_type": "code",
      "metadata": {
        "id": "ihOi6cGgWFQX"
      },
      "source": [
        "def transform(data):\n",
        "    \n",
        "    '''\n",
        "       Takes in a dataframe as input and returns a new dataframe with the categorical values be label encoded\n",
        "       \n",
        "       Input:\n",
        "           Dataframe\n",
        "       \n",
        "       Output:\n",
        "           Dataframe with encoded categorical values\n",
        "    '''\n",
        "    \n",
        "    from sklearn.preprocessing import LabelEncoder\n",
        "    \n",
        "    labelEncoder = LabelEncoder()\n",
        "    \n",
        "    categorical_feat = list(data.columns[data.dtypes == object])\n",
        "    \n",
        "    print(categorical_feat)\n",
        "    \n",
        "    for x in categorical_feat:\n",
        "        data[x] = labelEncoder.fit_transform(data[x])\n",
        "    \n",
        "    return data"
      ],
      "execution_count": 33,
      "outputs": []
    },
    {
      "cell_type": "code",
      "metadata": {
        "colab": {
          "base_uri": "https://localhost:8080/"
        },
        "id": "uVd7Wr9lWUkz",
        "outputId": "fcf100c0-c65e-4230-bbe2-ce675202e3c3"
      },
      "source": [
        "train_data = transform(train_data)"
      ],
      "execution_count": 34,
      "outputs": [
        {
          "output_type": "stream",
          "name": "stdout",
          "text": [
            "['hotel', 'arrival_date_month', 'market_segment', 'distribution_channel', 'customer_type']\n"
          ]
        }
      ]
    },
    {
      "cell_type": "code",
      "metadata": {
        "colab": {
          "base_uri": "https://localhost:8080/"
        },
        "id": "jm6W4UuvWsoh",
        "outputId": "999992a4-ca3e-45ce-b737-d7f2aad5cf3c"
      },
      "source": [
        "train_data.info()"
      ],
      "execution_count": 35,
      "outputs": [
        {
          "output_type": "stream",
          "name": "stdout",
          "text": [
            "<class 'pandas.core.frame.DataFrame'>\n",
            "Int64Index: 100000 entries, 1001 to 101000\n",
            "Data columns (total 27 columns):\n",
            " #   Column                          Non-Null Count   Dtype  \n",
            "---  ------                          --------------   -----  \n",
            " 0   hotel                           100000 non-null  int64  \n",
            " 1   is_canceled                     100000 non-null  int64  \n",
            " 2   lead_time                       100000 non-null  int64  \n",
            " 3   arrival_date_year               100000 non-null  int64  \n",
            " 4   arrival_date_month              100000 non-null  int64  \n",
            " 5   arrival_date_week_number        100000 non-null  int64  \n",
            " 6   arrival_date_day_of_month       100000 non-null  int64  \n",
            " 7   stays_in_weekend_nights         100000 non-null  int64  \n",
            " 8   stays_in_week_nights            100000 non-null  int64  \n",
            " 9   adults                          100000 non-null  int64  \n",
            " 10  children                        100000 non-null  int64  \n",
            " 11  babies                          100000 non-null  int64  \n",
            " 12  market_segment                  100000 non-null  int64  \n",
            " 13  distribution_channel            100000 non-null  int64  \n",
            " 14  is_repeated_guest               100000 non-null  int64  \n",
            " 15  previous_cancellations          100000 non-null  int64  \n",
            " 16  previous_bookings_not_canceled  100000 non-null  int64  \n",
            " 17  booking_changes                 100000 non-null  int64  \n",
            " 18  agent                           100000 non-null  int64  \n",
            " 19  company                         100000 non-null  int64  \n",
            " 20  days_in_waiting_list            100000 non-null  int64  \n",
            " 21  customer_type                   100000 non-null  int64  \n",
            " 22  adr                             100000 non-null  float64\n",
            " 23  required_car_parking_spaces     100000 non-null  int64  \n",
            " 24  total_of_special_requests       100000 non-null  int64  \n",
            " 25  is_assigned_same_room           100000 non-null  int64  \n",
            " 26  is_cancelled_high               100000 non-null  int64  \n",
            "dtypes: float64(1), int64(26)\n",
            "memory usage: 23.9 MB\n"
          ]
        }
      ]
    },
    {
      "cell_type": "code",
      "metadata": {
        "id": "yljvWjC9W_Um"
      },
      "source": [
        "train_data = train_data[['is_canceled',\n",
        " 'hotel',\n",
        " 'lead_time',\n",
        " 'arrival_date_year',\n",
        " 'arrival_date_month',\n",
        " 'arrival_date_week_number',\n",
        " 'arrival_date_day_of_month',\n",
        " 'stays_in_weekend_nights',\n",
        " 'stays_in_week_nights',\n",
        " 'adults',\n",
        " 'children',\n",
        " 'babies',\n",
        " 'market_segment',\n",
        " 'distribution_channel',\n",
        " 'is_repeated_guest',\n",
        " 'previous_cancellations',\n",
        " 'previous_bookings_not_canceled',\n",
        " 'booking_changes',\n",
        " 'agent',\n",
        " 'company',\n",
        " 'days_in_waiting_list',\n",
        " 'customer_type',\n",
        " 'adr',\n",
        " 'required_car_parking_spaces',\n",
        " 'total_of_special_requests',\n",
        " 'is_assigned_same_room',\n",
        " 'is_cancelled_high']]"
      ],
      "execution_count": 36,
      "outputs": []
    },
    {
      "cell_type": "markdown",
      "metadata": {
        "id": "LS40ewZBXKAs"
      },
      "source": [
        "## Modelling"
      ]
    },
    {
      "cell_type": "code",
      "metadata": {
        "id": "RAxDnXQnXGkQ"
      },
      "source": [
        "from sklearn.model_selection import train_test_split\n",
        "from sklearn.metrics import confusion_matrix\n",
        "from sklearn.svm import SVC\n",
        "from sklearn.ensemble import RandomForestClassifier\n",
        "from sklearn.preprocessing import StandardScaler\n",
        "from sklearn.model_selection import GridSearchCV\n",
        "from sklearn.feature_selection import RFECV\n",
        "from sklearn.metrics import confusion_matrix\n",
        "from sklearn.metrics import f1_score\n",
        "from sklearn.metrics import roc_auc_score"
      ],
      "execution_count": 37,
      "outputs": []
    },
    {
      "cell_type": "code",
      "metadata": {
        "id": "GuS0_lc8X5Mp"
      },
      "source": [
        "model_accuracy_results = {}"
      ],
      "execution_count": 38,
      "outputs": []
    },
    {
      "cell_type": "markdown",
      "metadata": {
        "id": "V5p2QqkzXkIw"
      },
      "source": [
        "Utility Functions"
      ]
    },
    {
      "cell_type": "code",
      "metadata": {
        "id": "mRPppKfmXi0u"
      },
      "source": [
        "def model_accuracy(y_test, y_pred):\n",
        "    '''\n",
        "        Takes in the actual test results and predicted test results and returns the accuracy of the model\n",
        "        \n",
        "        Input:\n",
        "            Actual test results(vector or data frame) and predicted test results(vector or data frame)\n",
        "            \n",
        "        Output:\n",
        "            Accuracy of the model\n",
        "    '''\n",
        "    cm = confusion_matrix(y_test, y_pred)\n",
        "    accuracy = ((cm[0,0] + cm [1,1]) * 100 / len(y_test)).round(2)\n",
        "    return accuracy"
      ],
      "execution_count": 39,
      "outputs": []
    },
    {
      "cell_type": "code",
      "metadata": {
        "id": "mkCF11kgX_S2"
      },
      "source": [
        "def get_confustion_matrix(y_test, y_pred):\n",
        "    '''\n",
        "        Takes in the actual test results and predicted test results and returns the confusion matrix\n",
        "        \n",
        "        Input:\n",
        "            Actual test results(vector or data frame) and predicted test results(vector or data frame)\n",
        "            \n",
        "        Output:\n",
        "            Confusion matrix\n",
        "    '''\n",
        "    cm = confusion_matrix(y_test, y_pred)\n",
        "    return cm"
      ],
      "execution_count": null,
      "outputs": []
    },
    {
      "cell_type": "code",
      "metadata": {
        "id": "ok8iEkTVYEck"
      },
      "source": [
        "def train(x_train,y_train,x_test,y_test,model):\n",
        "    '''\n",
        "        Takes in the training and testing datasets with dependent and independant variables along with the model name\n",
        "        ('svm','randomforest') as input\n",
        "        \n",
        "        Then fit, train and returns the model as the output\n",
        "        \n",
        "        Input:\n",
        "            X_train, y_train, X_test, y_test and model name ('svm','randomforest')\n",
        "        \n",
        "        Ouptut:\n",
        "            Trained Model\n",
        "    \n",
        "    '''\n",
        "    \n",
        "    if(model=='svm'):\n",
        "        from sklearn.svm import SVC\n",
        "        classifier = SVC(kernel = 'rbf', random_state=0)\n",
        "        classifier.fit(x_train,y_train)\n",
        "\n",
        "        y_pred = classifier.predict(x_test)\n",
        "\n",
        "        model_accuracy_results['SVM'] = model_accuracy(y_test, y_pred)\n",
        "        return classifier\n",
        "    if(model=='randomforest'):\n",
        "        from sklearn.ensemble import RandomForestClassifier\n",
        "        classifier = RandomForestClassifier(n_estimators=100, criterion='entropy', random_state=0)\n",
        "        classifier.fit(x_train,y_train)\n",
        "\n",
        "        y_pred = classifier.predict(x_test)\n",
        "\n",
        "        model_accuracy_results['RandomForest'] = model_accuracy(y_test, y_pred)\n",
        "        return classifier"
      ],
      "execution_count": 40,
      "outputs": []
    },
    {
      "cell_type": "code",
      "metadata": {
        "id": "DP0Z5m_gYkEm"
      },
      "source": [
        "scaler = StandardScaler()"
      ],
      "execution_count": 41,
      "outputs": []
    },
    {
      "cell_type": "markdown",
      "metadata": {
        "id": "D5htW6hjY5kI"
      },
      "source": [
        "For the Modelling, First we split our data.\n",
        "\n",
        "1. Test Train Split"
      ]
    },
    {
      "cell_type": "code",
      "metadata": {
        "id": "hzJ3QBIQYtNU"
      },
      "source": [
        "X = train_data.iloc[:, 1:].values\n",
        "y = train_data.iloc[:, 0].values\n",
        "X_train, X_test, y_train, y_test = train_test_split(X, y, test_size = 0.25, random_state = 0)"
      ],
      "execution_count": 42,
      "outputs": []
    },
    {
      "cell_type": "markdown",
      "metadata": {
        "id": "Gj7tBOOKZjTo"
      },
      "source": [
        "2. Standardization"
      ]
    },
    {
      "cell_type": "code",
      "metadata": {
        "id": "Y8RNHf4yZPkD"
      },
      "source": [
        "X_train = scaler.fit_transform(X_train)\n",
        "X_test = scaler.transform(X_test)"
      ],
      "execution_count": 43,
      "outputs": []
    },
    {
      "cell_type": "markdown",
      "metadata": {
        "id": "_YkHNY4yaCpy"
      },
      "source": [
        "3. Model Training"
      ]
    },
    {
      "cell_type": "code",
      "metadata": {
        "id": "nXWFNxizZxS5"
      },
      "source": [
        "svm_test = train(X_train,y_train,X_test,y_test,'svm')\n",
        "random_forest_test = train(X_train,y_train,X_test,y_test,'randomforest')"
      ],
      "execution_count": 44,
      "outputs": []
    },
    {
      "cell_type": "markdown",
      "metadata": {
        "id": "-P5nm0v-cCUr"
      },
      "source": [
        "4. Accuracy Test"
      ]
    },
    {
      "cell_type": "code",
      "metadata": {
        "colab": {
          "base_uri": "https://localhost:8080/",
          "height": 112
        },
        "id": "yNeTV_GVafha",
        "outputId": "6f5fc873-beb4-431a-c7cb-c8bfe3e77843"
      },
      "source": [
        "df_model_accuracies = pd.DataFrame(list(model_accuracy_results.values()), index=model_accuracy_results.keys(), columns=['Accuracy'])\n",
        "df_model_accuracies"
      ],
      "execution_count": null,
      "outputs": [
        {
          "output_type": "execute_result",
          "data": {
            "text/html": [
              "<div>\n",
              "<style scoped>\n",
              "    .dataframe tbody tr th:only-of-type {\n",
              "        vertical-align: middle;\n",
              "    }\n",
              "\n",
              "    .dataframe tbody tr th {\n",
              "        vertical-align: top;\n",
              "    }\n",
              "\n",
              "    .dataframe thead th {\n",
              "        text-align: right;\n",
              "    }\n",
              "</style>\n",
              "<table border=\"1\" class=\"dataframe\">\n",
              "  <thead>\n",
              "    <tr style=\"text-align: right;\">\n",
              "      <th></th>\n",
              "      <th>Accuracy</th>\n",
              "    </tr>\n",
              "  </thead>\n",
              "  <tbody>\n",
              "    <tr>\n",
              "      <th>SVM</th>\n",
              "      <td>86.07</td>\n",
              "    </tr>\n",
              "    <tr>\n",
              "      <th>RandomForest</th>\n",
              "      <td>90.57</td>\n",
              "    </tr>\n",
              "  </tbody>\n",
              "</table>\n",
              "</div>"
            ],
            "text/plain": [
              "              Accuracy\n",
              "SVM              86.07\n",
              "RandomForest     90.57"
            ]
          },
          "metadata": {},
          "execution_count": 44
        }
      ]
    },
    {
      "cell_type": "code",
      "metadata": {
        "colab": {
          "base_uri": "https://localhost:8080/"
        },
        "id": "N93sk3O4fBYX",
        "outputId": "b6ef83ab-437a-44e3-e9e2-e7ca67da07c5"
      },
      "source": [
        "f1_score(y_test, random_forest_test.predict(X_test))"
      ],
      "execution_count": null,
      "outputs": [
        {
          "output_type": "execute_result",
          "data": {
            "text/plain": [
              "0.8910955108073157"
            ]
          },
          "metadata": {},
          "execution_count": 45
        }
      ]
    },
    {
      "cell_type": "code",
      "metadata": {
        "colab": {
          "base_uri": "https://localhost:8080/"
        },
        "id": "jeyG6VJLfFao",
        "outputId": "639d3f97-d5f7-4f88-edbb-922652404415"
      },
      "source": [
        "roc_auc_score(y_test, random_forest_test.predict(X_test))"
      ],
      "execution_count": null,
      "outputs": [
        {
          "output_type": "execute_result",
          "data": {
            "text/plain": [
              "0.901386243324927"
            ]
          },
          "metadata": {},
          "execution_count": 46
        }
      ]
    },
    {
      "cell_type": "code",
      "metadata": {
        "colab": {
          "base_uri": "https://localhost:8080/",
          "height": 284
        },
        "id": "UI9Q--9mcIjI",
        "outputId": "1d511004-2fe8-403b-cc10-313c25991df7"
      },
      "source": [
        "orf_cm = confusion_matrix(y_test, random_forest_test.predict(X_test))\n",
        "\n",
        "names = ['True Neg','False Pos','False Neg','True Pos'] \n",
        "values = [value for value in orf_cm.flatten()] \n",
        "percentages = [str(perc.round(2))+'%' for perc in orf_cm.flatten()*100/np.sum(orf_cm)] \n",
        "labels = [f\"{v1}\\n{v2}\\n{v3}\" for v1, v2, v3 in zip(names,values,percentages)] \n",
        "labels = np.asarray(labels).reshape(2,2)\n",
        "sns.heatmap(orf_cm, annot=labels, fmt='', cmap='binary')"
      ],
      "execution_count": null,
      "outputs": [
        {
          "output_type": "execute_result",
          "data": {
            "text/plain": [
              "<matplotlib.axes._subplots.AxesSubplot at 0x7f958df97410>"
            ]
          },
          "metadata": {},
          "execution_count": 47
        },
        {
          "output_type": "display_data",
          "data": {
            "image/png": "[encoded data removed]",
            "text/plain": [
              "<Figure size 432x288 with 2 Axes>"
            ]
          },
          "metadata": {}
        }
      ]
    },
    {
      "cell_type": "markdown",
      "metadata": {
        "id": "g_quEtYSdtGL"
      },
      "source": [
        "Random Forests comes out on top so we tuned it Further"
      ]
    },
    {
      "cell_type": "markdown",
      "metadata": {
        "id": "N_CgQM7Xftw4"
      },
      "source": [
        "However, there are more false negatives as seen in the confusion matrix, hence we enhanced the random forest with some optimizations"
      ]
    },
    {
      "cell_type": "code",
      "metadata": {
        "colab": {
          "base_uri": "https://localhost:8080/"
        },
        "id": "WN_cq1V0fLE1",
        "outputId": "6f14c5a8-b08a-4ddf-f409-a0d874c5b23a"
      },
      "source": [
        "import numpy as np\n",
        "from sklearn.pipeline import Pipeline\n",
        "from sklearn.model_selection import RepeatedStratifiedKFold\n",
        "from sklearn.model_selection import cross_val_score\n",
        "model = RandomForestClassifier()\n",
        "rfecv = RFECV(estimator=RandomForestClassifier())\n",
        "pipeline = Pipeline([('Feature Selection', rfecv), ('Model', model)])\n",
        "cv = RepeatedStratifiedKFold(n_splits=10, n_repeats=5, random_state=36851234)\n",
        "n_scores = cross_val_score(pipeline, X_train, y_train, scoring='accuracy', cv=cv, n_jobs=-1)\n",
        "np.mean(n_scores)\n",
        "#grid_search = GridSearchCV(estimator = randomforestclassifier,\n",
        " #                          param_grid = parameter , \n",
        "  #                         cv=5,\n",
        "   #                        scoring = 'accuracy',\n",
        "    #                       n_jobs = -1)\n",
        "pipeline.fit(X_train, y_train)\n",
        "#print(“Optimal number of features : %d” % rfecv.n_features_)"
      ],
      "execution_count": 45,
      "outputs": [
        {
          "output_type": "execute_result",
          "data": {
            "text/plain": [
              "Pipeline(steps=[('Feature Selection',\n",
              "                 RFECV(estimator=RandomForestClassifier())),\n",
              "                ('Model', RandomForestClassifier())])"
            ]
          },
          "metadata": {},
          "execution_count": 45
        }
      ]
    },
    {
      "cell_type": "code",
      "metadata": {
        "colab": {
          "base_uri": "https://localhost:8080/"
        },
        "id": "b_UnADLPgFas",
        "outputId": "730ebeea-af86-45f7-8b01-023f03493821"
      },
      "source": [
        "#print('Best Score: ', grid_search.best_score_.round(2))\n",
        "#print('Best Parameters: ', grid_search.best_params_)\n",
        "from numpy import mean\n",
        "from numpy import std\n",
        "print(\"Optimal number of features : %d\" % rfecv.n_features_)\n",
        "print('Accuracy: %.3f (%.3f)' % (mean(n_scores), std(n_scores)))"
      ],
      "execution_count": 63,
      "outputs": [
        {
          "output_type": "stream",
          "name": "stdout",
          "text": [
            "Optimal number of features : 26\n",
            "Accuracy: 0.906 (0.003)\n"
          ]
        }
      ]
    },
    {
      "cell_type": "code",
      "source": [
        "import matplotlib.pyplot as plt\n",
        "plt.figure(figsize=(12,6))\n",
        "plt.xlabel(\"Number of features selected\")\n",
        "plt.ylabel(\"Cross validation score (no. of correct classifications)\")\n",
        "plt.plot(range(1, len(rfecv.grid_scores_) + 1), rfecv.grid_scores_)\n",
        "plt.show()"
      ],
      "metadata": {
        "colab": {
          "base_uri": "https://localhost:8080/",
          "height": 443
        },
        "id": "XDIqcpllsuWy",
        "outputId": "e93a565a-064b-4e6d-b92e-68da9f605c3e"
      },
      "execution_count": 61,
      "outputs": [
        {
          "output_type": "stream",
          "name": "stderr",
          "text": [
            "/usr/local/lib/python3.7/dist-packages/sklearn/utils/deprecation.py:103: FutureWarning: The `grid_scores_` attribute is deprecated in version 1.0 in favor of `cv_results_` and will be removed in version 1.2.\n",
            "  warnings.warn(msg, category=FutureWarning)\n"
          ]
        },
        {
          "output_type": "display_data",
          "data": {
            "image/png": "[encoded data removed]",
            "text/plain": [
              "<Figure size 864x432 with 1 Axes>"
            ]
          },
          "metadata": {}
        }
      ]
    },
    {
      "cell_type": "code",
      "source": [
        "pipeline.show()"
      ],
      "metadata": {
        "colab": {
          "base_uri": "https://localhost:8080/",
          "height": 165
        },
        "id": "CAk6R7Ghw7-Y",
        "outputId": "9beda203-2929-43bc-b752-3682db00d408"
      },
      "execution_count": 62,
      "outputs": [
        {
          "output_type": "error",
          "ename": "AttributeError",
          "evalue": "ignored",
          "traceback": [
            "\u001b[0;31m---------------------------------------------------------------------------\u001b[0m",
            "\u001b[0;31mAttributeError\u001b[0m                            Traceback (most recent call last)",
            "\u001b[0;32m<ipython-input-62-49bbe8939f1e>\u001b[0m in \u001b[0;36m<module>\u001b[0;34m()\u001b[0m\n\u001b[0;32m----> 1\u001b[0;31m \u001b[0mpipeline\u001b[0m\u001b[0;34m.\u001b[0m\u001b[0mshow\u001b[0m\u001b[0;34m(\u001b[0m\u001b[0;34m)\u001b[0m\u001b[0;34m\u001b[0m\u001b[0;34m\u001b[0m\u001b[0m\n\u001b[0m",
            "\u001b[0;31mAttributeError\u001b[0m: 'Pipeline' object has no attribute 'show'"
          ]
        }
      ]
    },
    {
      "cell_type": "markdown",
      "metadata": {
        "id": "rg-7Vv1HjVni"
      },
      "source": [
        "We used the above best parameters to retrain our model"
      ]
    },
    {
      "cell_type": "code",
      "metadata": {
        "colab": {
          "base_uri": "https://localhost:8080/"
        },
        "id": "qFWim81ojPkO",
        "outputId": "01d09b49-671d-44d0-a54c-edb76764e43e"
      },
      "source": [
        "random_forest_optimized_test = RandomForestClassifier(n_estimators=500, max_features=10, criterion='entropy', random_state=21)\n",
        "random_forest_optimized_test.fit(X_train,y_train)"
      ],
      "execution_count": null,
      "outputs": [
        {
          "output_type": "execute_result",
          "data": {
            "text/plain": [
              "RandomForestClassifier(criterion='entropy', max_features=10, n_estimators=500,\n",
              "                       random_state=21)"
            ]
          },
          "metadata": {},
          "execution_count": 50
        }
      ]
    },
    {
      "cell_type": "code",
      "metadata": {
        "id": "IjJSmG_6jrxS"
      },
      "source": [
        "y_pred = random_forest_optimized_test.predict(X_test)\n",
        "model_accuracy_results['OptimizedRandomForest'] = model_accuracy(y_test, y_pred)"
      ],
      "execution_count": null,
      "outputs": []
    },
    {
      "cell_type": "code",
      "metadata": {
        "colab": {
          "base_uri": "https://localhost:8080/",
          "height": 144
        },
        "id": "ReBEhgBakDoZ",
        "outputId": "c7ca728f-4511-4d59-fea1-2e391f12ecea"
      },
      "source": [
        "df_model_accuracies = pd.DataFrame(list(model_accuracy_results.values()), index=model_accuracy_results.keys(), columns=['Accuracy'])\n",
        "df_model_accuracies"
      ],
      "execution_count": null,
      "outputs": [
        {
          "output_type": "execute_result",
          "data": {
            "text/html": [
              "<div>\n",
              "<style scoped>\n",
              "    .dataframe tbody tr th:only-of-type {\n",
              "        vertical-align: middle;\n",
              "    }\n",
              "\n",
              "    .dataframe tbody tr th {\n",
              "        vertical-align: top;\n",
              "    }\n",
              "\n",
              "    .dataframe thead th {\n",
              "        text-align: right;\n",
              "    }\n",
              "</style>\n",
              "<table border=\"1\" class=\"dataframe\">\n",
              "  <thead>\n",
              "    <tr style=\"text-align: right;\">\n",
              "      <th></th>\n",
              "      <th>Accuracy</th>\n",
              "    </tr>\n",
              "  </thead>\n",
              "  <tbody>\n",
              "    <tr>\n",
              "      <th>SVM</th>\n",
              "      <td>86.07</td>\n",
              "    </tr>\n",
              "    <tr>\n",
              "      <th>RandomForest</th>\n",
              "      <td>90.57</td>\n",
              "    </tr>\n",
              "    <tr>\n",
              "      <th>OptimizedRandomForest</th>\n",
              "      <td>90.64</td>\n",
              "    </tr>\n",
              "  </tbody>\n",
              "</table>\n",
              "</div>"
            ],
            "text/plain": [
              "                       Accuracy\n",
              "SVM                       86.07\n",
              "RandomForest              90.57\n",
              "OptimizedRandomForest     90.64"
            ]
          },
          "metadata": {},
          "execution_count": 52
        }
      ]
    },
    {
      "cell_type": "code",
      "metadata": {
        "colab": {
          "base_uri": "https://localhost:8080/",
          "height": 284
        },
        "id": "qRMI2xEPkH6G",
        "outputId": "3ad0780e-3e99-49f0-8c98-ec1fe5769280"
      },
      "source": [
        "orf_cm = confusion_matrix(y_test, random_forest_optimized_test.predict(X_test))\n",
        "\n",
        "names = ['True Neg','False Pos','False Neg','True Pos'] \n",
        "values = [value for value in orf_cm.flatten()] \n",
        "percentages = [str(perc.round(2))+'%' for perc in orf_cm.flatten()*100/np.sum(orf_cm)] \n",
        "labels = [f\"{v1}\\n{v2}\\n{v3}\" for v1, v2, v3 in zip(names,values,percentages)] \n",
        "labels = np.asarray(labels).reshape(2,2)\n",
        "sns.heatmap(orf_cm, annot=labels, fmt='', cmap='binary')"
      ],
      "execution_count": null,
      "outputs": [
        {
          "output_type": "execute_result",
          "data": {
            "text/plain": [
              "<matplotlib.axes._subplots.AxesSubplot at 0x7f958e880850>"
            ]
          },
          "metadata": {},
          "execution_count": 53
        },
        {
          "output_type": "display_data",
          "data": {
            "image/png": "[encoded data removed]",
            "text/plain": [
              "<Figure size 432x288 with 2 Axes>"
            ]
          },
          "metadata": {}
        }
      ]
    },
    {
      "cell_type": "code",
      "metadata": {
        "colab": {
          "base_uri": "https://localhost:8080/"
        },
        "id": "Q3QfeHBIkrk7",
        "outputId": "7d2b130e-4a67-4a58-88cb-879e56874a32"
      },
      "source": [
        "f1_score(y_test, random_forest_optimized_test.predict(X_test))\n",
        "roc_auc_score(y_test, random_forest_optimized_test.predict(X_test))"
      ],
      "execution_count": null,
      "outputs": [
        {
          "output_type": "execute_result",
          "data": {
            "text/plain": [
              "0.9024394146164402"
            ]
          },
          "metadata": {},
          "execution_count": 54
        }
      ]
    },
    {
      "cell_type": "markdown",
      "metadata": {
        "id": "8fmuTFF67mpg"
      },
      "source": [
        "## Final Model Creation"
      ]
    },
    {
      "cell_type": "markdown",
      "metadata": {
        "id": "EK1JvCZL9DMb"
      },
      "source": [
        "Utility Functions"
      ]
    },
    {
      "cell_type": "code",
      "metadata": {
        "id": "gPHg4c-u6tJc"
      },
      "source": [
        "def train_model(train_df):\n",
        "    \n",
        "    #data cleaning\n",
        "    train_df['company'].fillna(0, inplace=True)\n",
        "    train_df['agent'].fillna(0, inplace=True)\n",
        "    train_df['country'].fillna(train_df.country.mode().to_string(), inplace=True)\n",
        "    train_df['children'].fillna(train_df.children.mean(), inplace=True)\n",
        "    \n",
        "    #data type conversion\n",
        "    train_df[['children', 'company', 'agent']] = train_df[['children', 'company', 'agent']].astype('int64')\n",
        "    \n",
        "    #data transoformation\n",
        "    train_df['is_assigned_same_room'] = 0\n",
        "    train_df.loc[train_df['reserved_room_type']==train_df['assigned_room_type'],'is_assigned_same_room']=1\n",
        "    \n",
        "    train_df['is_cancelled_high'] = 0\n",
        "    train_df.loc[train_df['previous_cancellations']>train_df['previous_bookings_not_canceled'], 'is_cancelled_high']=1\n",
        "    \n",
        "    train_df = train_df[['is_canceled',\n",
        "                             'hotel',\n",
        "                             'lead_time',\n",
        "                             'arrival_date_year',\n",
        "                             'arrival_date_month',\n",
        "                             'arrival_date_week_number',\n",
        "                             'arrival_date_day_of_month',\n",
        "                             'stays_in_weekend_nights',\n",
        "                             'stays_in_week_nights',\n",
        "                             'adults',\n",
        "                             'children',\n",
        "                             'babies',\n",
        "                             'market_segment',\n",
        "                             'distribution_channel',\n",
        "                             'is_repeated_guest',\n",
        "                             'previous_cancellations',\n",
        "                             'previous_bookings_not_canceled',\n",
        "                             'booking_changes',\n",
        "                             'agent',\n",
        "                             'company',\n",
        "                             'days_in_waiting_list',\n",
        "                             'customer_type',\n",
        "                             'adr',\n",
        "                             'required_car_parking_spaces',\n",
        "                             'total_of_special_requests',\n",
        "                            'is_assigned_same_room',\n",
        "                            'is_cancelled_high']]\n",
        "    train_df = transform(train_df)\n",
        "    X_train = train_df.iloc[:, 1:].values\n",
        "    y_train = train_data.iloc[:, 0].values\n",
        "    X_train = scaler.fit_transform(X_train)\n",
        "    model = RandomForestClassifier(n_estimators=500, max_features=10, criterion='entropy', random_state=0)\n",
        "    model.fit(X_train,y_train)\n",
        "    return model"
      ],
      "execution_count": null,
      "outputs": []
    },
    {
      "cell_type": "code",
      "metadata": {
        "id": "6qLAr2Li9V6Z"
      },
      "source": [
        "def transform_test(test_df):\n",
        "    #data cleaning\n",
        "    test_df['company'].fillna(0, inplace=True)\n",
        "    test_df['agent'].fillna(0, inplace=True)\n",
        "    test_df['country'].fillna(test_df.country.mode().to_string(), inplace=True)\n",
        "    test_df['children'].fillna(test_df.children.mean(), inplace=True)\n",
        "    \n",
        "    #data type conversion\n",
        "    test_df[['children', 'company', 'agent']] = test_df[['children', 'company', 'agent']].astype('int64')\n",
        "    \n",
        "    #data transoformation\n",
        "    test_df['is_assigned_same_room'] = 0\n",
        "    test_df.loc[test_df['reserved_room_type']==test_df['assigned_room_type'],'is_assigned_same_room']=1\n",
        "    \n",
        "    test_df['is_cancelled_high'] = 0\n",
        "    test_df.loc[test_df['previous_cancellations']>test_df['previous_bookings_not_canceled'], 'is_cancelled_high']=1\n",
        "    \n",
        "    test_df = test_df[[      'hotel',\n",
        "                             'lead_time',\n",
        "                             'arrival_date_year',\n",
        "                             'arrival_date_month',\n",
        "                             'arrival_date_week_number',\n",
        "                             'arrival_date_day_of_month',\n",
        "                             'stays_in_weekend_nights',\n",
        "                             'stays_in_week_nights',\n",
        "                             'adults',\n",
        "                             'children',\n",
        "                             'babies',\n",
        "                             'market_segment',\n",
        "                             'distribution_channel',\n",
        "                             'is_repeated_guest',\n",
        "                             'previous_cancellations',\n",
        "                             'previous_bookings_not_canceled',\n",
        "                             'booking_changes',\n",
        "                             'agent',\n",
        "                             'company',\n",
        "                             'days_in_waiting_list',\n",
        "                             'customer_type',\n",
        "                             'adr',\n",
        "                             'required_car_parking_spaces',\n",
        "                             'total_of_special_requests',\n",
        "                            'is_assigned_same_room',\n",
        "                            'is_cancelled_high']]\n",
        "    test_df = transform(test_df)\n",
        "    test_df = test_df.iloc[:,:].values\n",
        "    test_df = scaler.fit_transform(test_df)\n",
        "    return test_df"
      ],
      "execution_count": null,
      "outputs": []
    },
    {
      "cell_type": "markdown",
      "metadata": {
        "id": "5sSzpUqI9i8U"
      },
      "source": [
        "Loading Files and Training"
      ]
    },
    {
      "cell_type": "code",
      "metadata": {
        "id": "j5EoWDK_9m7O"
      },
      "source": [
        "train_df = pd.read_csv('/content/drive/MyDrive/train.csv',index_col=0)"
      ],
      "execution_count": null,
      "outputs": []
    },
    {
      "cell_type": "code",
      "metadata": {
        "colab": {
          "base_uri": "https://localhost:8080/"
        },
        "id": "rajnxHVe9yvr",
        "outputId": "ae11c1de-e5be-4d3c-8d8b-d2ab74093dee"
      },
      "source": [
        "model = train_model(train_df)"
      ],
      "execution_count": null,
      "outputs": [
        {
          "output_type": "stream",
          "name": "stdout",
          "text": [
            "['hotel', 'arrival_date_month', 'market_segment', 'distribution_channel', 'customer_type']\n"
          ]
        },
        {
          "output_type": "stream",
          "name": "stderr",
          "text": [
            "/usr/local/lib/python3.7/dist-packages/ipykernel_launcher.py:22: SettingWithCopyWarning: \n",
            "A value is trying to be set on a copy of a slice from a DataFrame.\n",
            "Try using .loc[row_indexer,col_indexer] = value instead\n",
            "\n",
            "See the caveats in the documentation: https://pandas.pydata.org/pandas-docs/stable/user_guide/indexing.html#returning-a-view-versus-a-copy\n"
          ]
        }
      ]
    },
    {
      "cell_type": "code",
      "metadata": {
        "id": "cELzhWK397_-"
      },
      "source": [
        "test_df = pd.read_csv('/content/drive/MyDrive/test.csv',index_col=0)"
      ],
      "execution_count": null,
      "outputs": []
    },
    {
      "cell_type": "code",
      "metadata": {
        "colab": {
          "base_uri": "https://localhost:8080/"
        },
        "id": "k9-wxfic-FWM",
        "outputId": "72e6664c-24a2-4775-f464-e68ffd2ee557"
      },
      "source": [
        "test_df = transform_test(test_df)"
      ],
      "execution_count": null,
      "outputs": [
        {
          "output_type": "stream",
          "name": "stdout",
          "text": [
            "['hotel', 'arrival_date_month', 'market_segment', 'distribution_channel', 'customer_type']\n"
          ]
        },
        {
          "output_type": "stream",
          "name": "stderr",
          "text": [
            "/usr/local/lib/python3.7/dist-packages/ipykernel_launcher.py:22: SettingWithCopyWarning: \n",
            "A value is trying to be set on a copy of a slice from a DataFrame.\n",
            "Try using .loc[row_indexer,col_indexer] = value instead\n",
            "\n",
            "See the caveats in the documentation: https://pandas.pydata.org/pandas-docs/stable/user_guide/indexing.html#returning-a-view-versus-a-copy\n"
          ]
        }
      ]
    },
    {
      "cell_type": "code",
      "metadata": {
        "id": "r4rX-pTj-Mel"
      },
      "source": [
        "pred_res = model.predict(test_df)"
      ],
      "execution_count": null,
      "outputs": []
    },
    {
      "cell_type": "code",
      "metadata": {
        "colab": {
          "base_uri": "https://localhost:8080/"
        },
        "id": "KDIWYDRr-Q4Y",
        "outputId": "68a9912c-70c3-4887-bc48-a60a6db35216"
      },
      "source": [
        "pred_res"
      ],
      "execution_count": null,
      "outputs": [
        {
          "output_type": "execute_result",
          "data": {
            "text/plain": [
              "array([0, 0, 0, ..., 0, 1, 0])"
            ]
          },
          "metadata": {},
          "execution_count": 62
        }
      ]
    },
    {
      "cell_type": "code",
      "metadata": {
        "id": "FCcmcTgSG_qG"
      },
      "source": [
        "submission = pd.read_csv('/content/drive/MyDrive/submission.csv')"
      ],
      "execution_count": null,
      "outputs": []
    },
    {
      "cell_type": "code",
      "metadata": {
        "id": "6NNZlb6eGsnO"
      },
      "source": [
        "submission['is_canceled'] = pred_res"
      ],
      "execution_count": null,
      "outputs": []
    },
    {
      "cell_type": "code",
      "metadata": {
        "id": "XAIlFTUNHhza"
      },
      "source": [
        "submission.to_csv('submission.csv',index=False)"
      ],
      "execution_count": null,
      "outputs": []
    },
    {
      "cell_type": "code",
      "metadata": {
        "colab": {
          "base_uri": "https://localhost:8080/"
        },
        "id": "Arw1spYzQRsB",
        "outputId": "bc768cc9-5ea5-4b8a-a443-2f8f781cc59a"
      },
      "source": [
        "X"
      ],
      "execution_count": null,
      "outputs": [
        {
          "output_type": "execute_result",
          "data": {
            "text/plain": [
              "array([[1.000e+00, 3.420e+02, 2.015e+03, ..., 0.000e+00, 1.000e+00,\n",
              "        0.000e+00],\n",
              "       [1.000e+00, 7.370e+02, 2.015e+03, ..., 0.000e+00, 1.000e+00,\n",
              "        0.000e+00],\n",
              "       [1.000e+00, 7.000e+00, 2.015e+03, ..., 0.000e+00, 0.000e+00,\n",
              "        0.000e+00],\n",
              "       ...,\n",
              "       [0.000e+00, 2.560e+02, 2.016e+03, ..., 0.000e+00, 1.000e+00,\n",
              "        0.000e+00],\n",
              "       [0.000e+00, 2.560e+02, 2.016e+03, ..., 0.000e+00, 1.000e+00,\n",
              "        0.000e+00],\n",
              "       [0.000e+00, 2.560e+02, 2.016e+03, ..., 0.000e+00, 1.000e+00,\n",
              "        0.000e+00]])"
            ]
          },
          "metadata": {},
          "execution_count": 66
        }
      ]
    },
    {
      "cell_type": "markdown",
      "metadata": {
        "id": "PKfnKgPB-6cb"
      },
      "source": [
        "## Creating A pickle file for exporting the model"
      ]
    },
    {
      "cell_type": "code",
      "metadata": {
        "id": "kkYz_Ub6-1d9"
      },
      "source": [
        "#importing the pickle library which is a part of pythons in built packages\n",
        "import pickle\n",
        "# save the model to disk\n",
        "model_pkl = 'Final Random Forest Model.pkl'\n",
        "\n",
        "with open(model_pkl, 'wb') as file:\n",
        "  pickle.dump(model, file)"
      ],
      "execution_count": null,
      "outputs": []
    },
    {
      "cell_type": "code",
      "metadata": {
        "id": "X30siG9qQORa"
      },
      "source": [
        ""
      ],
      "execution_count": null,
      "outputs": []
    }
  ]
}